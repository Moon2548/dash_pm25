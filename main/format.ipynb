{
 "cells": [
  {
   "cell_type": "code",
   "execution_count": 2,
   "metadata": {},
   "outputs": [
    {
     "name": "stdout",
     "output_type": "stream",
     "text": [
      "Converted to_dash_surat_model_faster_ver.ipynb to function_surat_model.py\n"
     ]
    }
   ],
   "source": [
    "import nbformat\n",
    "\n",
    "def convert_notebook_to_function(ipynb_path, output_py_path):\n",
    "    # โหลดไฟล์ .ipynb\n",
    "    with open(ipynb_path, \"r\", encoding=\"utf-8\") as f:\n",
    "        notebook = nbformat.read(f, as_version=4)\n",
    "\n",
    "    # ดึงโค้ดจากทุกเซลล์ที่เป็น Code Cell\n",
    "    code_cells = [cell[\"source\"] for cell in notebook.cells if cell[\"cell_type\"] == \"code\"]\n",
    "\n",
    "    # รวมโค้ดทั้งหมดเป็นฟังก์ชันเดียว\n",
    "    function_code = \"def my_function():\\n\"\n",
    "    for cell in code_cells:\n",
    "        for line in cell.split(\"\\n\"):\n",
    "            function_code += f\"    {line}\\n\"  # เติม indent เพื่อให้เป็นโค้ดในฟังก์ชัน\n",
    "\n",
    "    # บันทึกลงไฟล์ .py\n",
    "    with open(output_py_path, \"w\", encoding=\"utf-8\") as f:\n",
    "        f.write(function_code)\n",
    "\n",
    "    print(f\"Converted {ipynb_path} to {output_py_path}\")\n",
    "\n",
    "# ใช้งานฟังก์ชัน\n",
    "convert_notebook_to_function(\"to_dash_surat_model_faster_ver.ipynb\", \"function_surat_model.py\")\n"
   ]
  }
 ],
 "metadata": {
  "kernelspec": {
   "display_name": "venv",
   "language": "python",
   "name": "python3"
  },
  "language_info": {
   "codemirror_mode": {
    "name": "ipython",
    "version": 3
   },
   "file_extension": ".py",
   "mimetype": "text/x-python",
   "name": "python",
   "nbconvert_exporter": "python",
   "pygments_lexer": "ipython3",
   "version": "3.11.9"
  }
 },
 "nbformat": 4,
 "nbformat_minor": 2
}
